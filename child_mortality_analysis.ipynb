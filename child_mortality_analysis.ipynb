{
 "cells": [
  {
   "cell_type": "code",
   "execution_count": 72,
   "id": "4051d2d3",
   "metadata": {},
   "outputs": [],
   "source": [
    "import pandas as pd\n",
    "import numpy as np\n",
    "import sklearn as sn\n",
    "from flask import Flask, render_template\n",
    "import plotly.express as px\n",
    "import plotly.io as pio\n",
    "import json\n",
    "\n",
    "\n",
    "mort= pd.read_csv('/workspaces/child_mortality/Datasets/child_mortality.csv')\n",
    "edu = pd.read_csv('/workspaces/child_mortality/Datasets/female_education.csv')\n",
    "san = pd.read_csv('/workspaces/child_mortality/Datasets/sanitation_services.csv') "
   ]
  },
  {
   "cell_type": "code",
   "execution_count": 65,
   "id": "b0428704",
   "metadata": {},
   "outputs": [],
   "source": [
    "# Define a function to reshape each\n",
    "def reshape_wide_to_long(df, value_name):\n",
    "    return df.melt(\n",
    "        id_vars=['Country', 'Indicator Name'], \n",
    "        value_vars=['2018','2019','2020','2021','2022'],\n",
    "        var_name='year',\n",
    "        value_name=value_name\n",
    "    ).drop(columns=['Indicator Name'])\n",
    "\n",
    "mort_long = reshape_wide_to_long(mort, 'Mortality rate, under-5 (per 1,000 live births)')\n",
    "edu_long = reshape_wide_to_long(edu, 'Educational attainment, at least completed lower secondary, population 25+, female (%) (cumulative)')\n",
    "san_long = reshape_wide_to_long(san, 'People using at least basic sanitation services (% of population)')"
   ]
  },
  {
   "cell_type": "code",
   "execution_count": 66,
   "id": "00a8e132",
   "metadata": {},
   "outputs": [],
   "source": [
    "df = (mort_long\n",
    "      .merge(edu_long, on=['Country','year'], how='inner')\n",
    "      .merge(san_long, on=['Country','year'], how='inner'))\n",
    "\n"
   ]
  },
  {
   "cell_type": "code",
   "execution_count": 67,
   "id": "23f10666",
   "metadata": {},
   "outputs": [
    {
     "name": "stdout",
     "output_type": "stream",
     "text": [
      "    Country  year  Mortality rate, under-5 (per 1,000 live births)  \\\n",
      "0  Ethiopia  2018                                             56.4   \n",
      "1     Kenya  2018                                             44.3   \n",
      "2   Nigeria  2018                                            120.2   \n",
      "3  Ethiopia  2019                                             54.1   \n",
      "4     Kenya  2019                                             43.3   \n",
      "\n",
      "   Educational attainment, at least completed lower secondary, population 25+, female (%) (cumulative)  \\\n",
      "0                                                NaN                                                     \n",
      "1                                                NaN                                                     \n",
      "2                                           37.01556                                                     \n",
      "3                                            7.49156                                                     \n",
      "4                                           55.18861                                                     \n",
      "\n",
      "   People using at least basic sanitation services (% of population)  \n",
      "0                                           8.349923                  \n",
      "1                                          34.890642                  \n",
      "2                                          42.226261                  \n",
      "3                                           8.652039                  \n",
      "4                                          35.295795                   (15, 5)\n"
     ]
    }
   ],
   "source": [
    "# Convert year to integer\n",
    "df['year'] = df['year'].astype(int)\n",
    "\n",
    "print(df.head(), df.shape)"
   ]
  },
  {
   "cell_type": "code",
   "execution_count": 68,
   "id": "7e2694c9",
   "metadata": {},
   "outputs": [
    {
     "data": {
      "text/plain": [
       "Country                                                                                                0\n",
       "year                                                                                                   0\n",
       "Mortality rate, under-5 (per 1,000 live births)                                                        0\n",
       "Educational attainment, at least completed lower secondary, population 25+, female (%) (cumulative)    5\n",
       "People using at least basic sanitation services (% of population)                                      0\n",
       "dtype: int64"
      ]
     },
     "execution_count": 68,
     "metadata": {},
     "output_type": "execute_result"
    }
   ],
   "source": [
    "df.isna().sum()"
   ]
  },
  {
   "cell_type": "code",
   "execution_count": 69,
   "id": "ab971f01",
   "metadata": {},
   "outputs": [
    {
     "name": "stdout",
     "output_type": "stream",
     "text": [
      "Index(['Country', 'year', 'U5MR', 'FemaleEdu', 'Sanitation'], dtype='object')\n"
     ]
    }
   ],
   "source": [
    "df = df.rename(columns={\n",
    "    'Mortality rate, under-5 (per 1,000 live births)': 'U5MR',\n",
    "    'Educational attainment, at least completed lower secondary, population 25+, female (%) (cumulative)': 'FemaleEdu',\n",
    "    'People using at least basic sanitation services (% of population)': 'Sanitation'\n",
    "})\n",
    "\n",
    "print(df.columns)"
   ]
  },
  {
   "cell_type": "code",
   "execution_count": 70,
   "id": "78dcca47",
   "metadata": {},
   "outputs": [
    {
     "name": "stdout",
     "output_type": "stream",
     "text": [
      "Remaining missing in FemaleEdu: 0\n"
     ]
    },
    {
     "name": "stderr",
     "output_type": "stream",
     "text": [
      "/tmp/ipykernel_2480/1084803263.py:8: FutureWarning:\n",
      "\n",
      "Series.fillna with 'method' is deprecated and will raise in a future version. Use obj.ffill() or obj.bfill() instead.\n",
      "\n",
      "/tmp/ipykernel_2480/1084803263.py:9: FutureWarning:\n",
      "\n",
      "Series.fillna with 'method' is deprecated and will raise in a future version. Use obj.ffill() or obj.bfill() instead.\n",
      "\n"
     ]
    }
   ],
   "source": [
    "# Sort and reset index\n",
    "df = df.sort_values(['Country', 'year']).reset_index(drop=True)\n",
    "\n",
    "# Interpolate, forward-fill, backward-fill FemaleEdu\n",
    "df['FemaleEdu'] = (\n",
    "    df.groupby('Country')['FemaleEdu']\n",
    "      .transform(lambda g: g.interpolate(method='linear'))\n",
    "      .fillna(method='ffill')  # legacy usage\n",
    "      .fillna(method='bfill')\n",
    ")\n",
    "\n",
    "# Verify no remaining missing values\n",
    "print(\"Remaining missing in FemaleEdu:\", df['FemaleEdu'].isna().sum())"
   ]
  },
  {
   "cell_type": "code",
   "execution_count": 74,
   "id": "39315697",
   "metadata": {},
   "outputs": [],
   "source": [
    "# Save DataFrame to CSV\n",
    "df.to_csv('processed_data.csv', index=False)"
   ]
  },
  {
   "cell_type": "code",
   "execution_count": 73,
   "id": "fe34a6b0",
   "metadata": {},
   "outputs": [
    {
     "name": "stderr",
     "output_type": "stream",
     "text": [
      "2025-07-13 11:50:09.899 Thread 'MainThread': missing ScriptRunContext! This warning can be ignored when running in bare mode.\n",
      "2025-07-13 11:50:09.899 Thread 'MainThread': missing ScriptRunContext! This warning can be ignored when running in bare mode.\n",
      "2025-07-13 11:50:09.900 Thread 'MainThread': missing ScriptRunContext! This warning can be ignored when running in bare mode.\n",
      "2025-07-13 11:50:09.901 Thread 'MainThread': missing ScriptRunContext! This warning can be ignored when running in bare mode.\n",
      "2025-07-13 11:50:09.901 Thread 'MainThread': missing ScriptRunContext! This warning can be ignored when running in bare mode.\n",
      "2025-07-13 11:50:09.923 Thread 'MainThread': missing ScriptRunContext! This warning can be ignored when running in bare mode.\n",
      "2025-07-13 11:50:09.924 Thread 'MainThread': missing ScriptRunContext! This warning can be ignored when running in bare mode.\n",
      "2025-07-13 11:50:09.925 Thread 'MainThread': missing ScriptRunContext! This warning can be ignored when running in bare mode.\n",
      "2025-07-13 11:50:09.925 Thread 'MainThread': missing ScriptRunContext! This warning can be ignored when running in bare mode.\n",
      "2025-07-13 11:50:09.926 Thread 'MainThread': missing ScriptRunContext! This warning can be ignored when running in bare mode.\n"
     ]
    },
    {
     "data": {
      "text/plain": [
       "DeltaGenerator()"
      ]
     },
     "execution_count": 73,
     "metadata": {},
     "output_type": "execute_result"
    }
   ],
   "source": [
    "import plotly.express as px\n",
    "\n",
    "# Line chart U5MR 2018–2022\n",
    "fig = px.line(df, x='year', y='U5MR', color='Country',\n",
    "              title='Under‑5 Mortality Trends (2018–2022)')\n",
    "st.plotly_chart(fig)\n",
    "\n",
    "# Choropleth map for 2022\n",
    "fig2 = px.choropleth(df[df.year==2022], locations='Country',\n",
    "                     color='U5MR', title='2022 U5MR in Sub‑Saharan Africa')\n",
    "st.plotly_chart(fig2)\n"
   ]
  },
  {
   "cell_type": "code",
   "execution_count": 75,
   "id": "47678542",
   "metadata": {},
   "outputs": [
    {
     "name": "stdout",
     "output_type": "stream",
     "text": [
      "Correlation Matrix:\n",
      "                U5MR  FemaleEdu  Sanitation\n",
      "U5MR        1.000000   0.167993    0.586153\n",
      "FemaleEdu   0.167993   1.000000    0.768120\n",
      "Sanitation  0.586153   0.768120    1.000000\n"
     ]
    }
   ],
   "source": [
    "import pandas as pd\n",
    "\n",
    "# Load and process data\n",
    "mort = pd.read_csv('/workspaces/child_mortality/Datasets/child_mortality.csv')\n",
    "edu = pd.read_csv('/workspaces/child_mortality/Datasets/female_education.csv')\n",
    "san = pd.read_csv('/workspaces/child_mortality/Datasets/sanitation_services.csv')\n",
    "\n",
    "# Reshape data\n",
    "def reshape_wide_to_long(df, value_name):\n",
    "    return df.melt(\n",
    "        id_vars=['Country', 'Indicator Name'],\n",
    "        value_vars=['2018', '2019', '2020', '2021', '2022'],\n",
    "        var_name='year',\n",
    "        value_name=value_name\n",
    "    ).drop(columns=['Indicator Name'])\n",
    "\n",
    "mort_long = reshape_wide_to_long(mort, 'Mortality rate, under-5 (per 1,000 live births)')\n",
    "edu_long = reshape_wide_to_long(edu, 'Educational attainment, at least completed lower secondary, population 25+, female (%) (cumulative)')\n",
    "san_long = reshape_wide_to_long(san, 'People using at least basic sanitation services (% of population)')\n",
    "\n",
    "# Merge data\n",
    "df = (mort_long\n",
    "      .merge(edu_long, on=['Country', 'year'], how='inner')\n",
    "      .merge(san_long, on=['Country', 'year'], how='inner'))\n",
    "\n",
    "# Convert year to integer\n",
    "df['year'] = df['year'].astype(int)\n",
    "\n",
    "# Rename columns\n",
    "df = df.rename(columns={\n",
    "    'Mortality rate, under-5 (per 1,000 live births)': 'U5MR',\n",
    "    'Educational attainment, at least completed lower secondary, population 25+, female (%) (cumulative)': 'FemaleEdu',\n",
    "    'People using at least basic sanitation services (% of population)': 'Sanitation'\n",
    "})\n",
    "\n",
    "# Handle missing values in FemaleEdu\n",
    "df = df.sort_values(['Country', 'year']).reset_index(drop=True)\n",
    "df['FemaleEdu'] = (\n",
    "    df.groupby('Country')['FemaleEdu']\n",
    "      .transform(lambda g: g.interpolate(method='linear'))\n",
    "      .ffill()\n",
    "      .bfill()\n",
    ")\n",
    "\n",
    "# Compute and display correlation matrix\n",
    "corr_matrix = df[['U5MR', 'FemaleEdu', 'Sanitation']].corr()\n",
    "print(\"Correlation Matrix:\")\n",
    "print(corr_matrix)\n",
    "\n",
    "# Optional: Visualize the correlation matrix as a heatmap\n",
    "import seaborn as sns\n",
    "import matplotlib.pyplot as plt\n",
    "\n",
    "plt.figure(figsize=(8, 6))\n",
    "sns.heatmap(corr_matrix, annot=True, cmap='Blues', vmin=-1, vmax=1, center=0)\n",
    "plt.title('Correlation Heatmap: U5MR, FemaleEdu, and Sanitation')\n",
    "plt.show()"
   ]
  }
 ],
 "metadata": {
  "kernelspec": {
   "display_name": "Python 3",
   "language": "python",
   "name": "python3"
  },
  "language_info": {
   "codemirror_mode": {
    "name": "ipython",
    "version": 3
   },
   "file_extension": ".py",
   "mimetype": "text/x-python",
   "name": "python",
   "nbconvert_exporter": "python",
   "pygments_lexer": "ipython3",
   "version": "3.12.1"
  }
 },
 "nbformat": 4,
 "nbformat_minor": 5
}
